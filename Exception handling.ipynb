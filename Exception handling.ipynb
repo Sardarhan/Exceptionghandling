{
 "cells": [
  {
   "cell_type": "markdown",
   "id": "645790c2",
   "metadata": {},
   "source": [
    "# Exception Handling"
   ]
  },
  {
   "cell_type": "code",
   "execution_count": 2,
   "id": "a2cb71d6",
   "metadata": {},
   "outputs": [
    {
     "data": {
      "text/plain": [
       "0.5"
      ]
     },
     "execution_count": 2,
     "metadata": {},
     "output_type": "execute_result"
    }
   ],
   "source": [
    "a=5\n",
    "a/10"
   ]
  },
  {
   "cell_type": "code",
   "execution_count": 3,
   "id": "389d90b0",
   "metadata": {},
   "outputs": [
    {
     "ename": "ZeroDivisionError",
     "evalue": "division by zero",
     "output_type": "error",
     "traceback": [
      "\u001b[1;31m---------------------------------------------------------------------------\u001b[0m",
      "\u001b[1;31mZeroDivisionError\u001b[0m                         Traceback (most recent call last)",
      "\u001b[1;32m~\\AppData\\Local\\Temp/ipykernel_8944/4102073204.py\u001b[0m in \u001b[0;36m<module>\u001b[1;34m\u001b[0m\n\u001b[1;32m----> 1\u001b[1;33m \u001b[0ma\u001b[0m\u001b[1;33m/\u001b[0m\u001b[1;36m0\u001b[0m\u001b[1;33m\u001b[0m\u001b[1;33m\u001b[0m\u001b[0m\n\u001b[0m",
      "\u001b[1;31mZeroDivisionError\u001b[0m: division by zero"
     ]
    }
   ],
   "source": [
    "a/0"
   ]
  },
  {
   "cell_type": "code",
   "execution_count": 5,
   "id": "938de259",
   "metadata": {},
   "outputs": [
    {
     "name": "stdout",
     "output_type": "stream",
     "text": [
      "0\n"
     ]
    },
    {
     "ename": "ZeroDivisionError",
     "evalue": "division by zero",
     "output_type": "error",
     "traceback": [
      "\u001b[1;31m---------------------------------------------------------------------------\u001b[0m",
      "\u001b[1;31mZeroDivisionError\u001b[0m                         Traceback (most recent call last)",
      "\u001b[1;32m~\\AppData\\Local\\Temp/ipykernel_8944/534337361.py\u001b[0m in \u001b[0;36m<module>\u001b[1;34m\u001b[0m\n\u001b[0;32m      1\u001b[0m \u001b[0ma\u001b[0m\u001b[1;33m=\u001b[0m\u001b[1;36m5\u001b[0m\u001b[1;33m\u001b[0m\u001b[1;33m\u001b[0m\u001b[0m\n\u001b[0;32m      2\u001b[0m \u001b[0mb\u001b[0m\u001b[1;33m=\u001b[0m\u001b[0mint\u001b[0m\u001b[1;33m(\u001b[0m\u001b[0minput\u001b[0m\u001b[1;33m(\u001b[0m\u001b[1;33m)\u001b[0m\u001b[1;33m)\u001b[0m\u001b[1;33m\u001b[0m\u001b[1;33m\u001b[0m\u001b[0m\n\u001b[1;32m----> 3\u001b[1;33m \u001b[0ma\u001b[0m\u001b[1;33m/\u001b[0m\u001b[0mb\u001b[0m\u001b[1;33m\u001b[0m\u001b[1;33m\u001b[0m\u001b[0m\n\u001b[0m",
      "\u001b[1;31mZeroDivisionError\u001b[0m: division by zero"
     ]
    }
   ],
   "source": [
    "a=5\n",
    "b=int(input())\n",
    "a/b\n"
   ]
  },
  {
   "cell_type": "code",
   "execution_count": 17,
   "id": "e97a26a0",
   "metadata": {},
   "outputs": [
    {
     "ename": "UnsupportedOperation",
     "evalue": "not writable",
     "output_type": "error",
     "traceback": [
      "\u001b[1;31m---------------------------------------------------------------------------\u001b[0m",
      "\u001b[1;31mUnsupportedOperation\u001b[0m                      Traceback (most recent call last)",
      "\u001b[1;32m~\\AppData\\Local\\Temp/ipykernel_8944/2964666010.py\u001b[0m in \u001b[0;36m<module>\u001b[1;34m\u001b[0m\n\u001b[0;32m      1\u001b[0m \u001b[0mf\u001b[0m\u001b[1;33m=\u001b[0m\u001b[0mopen\u001b[0m\u001b[1;33m(\u001b[0m\u001b[1;34m\"test.txt\"\u001b[0m\u001b[1;33m,\u001b[0m\u001b[1;34m\"r\"\u001b[0m\u001b[1;33m)\u001b[0m\u001b[1;33m\u001b[0m\u001b[1;33m\u001b[0m\u001b[0m\n\u001b[1;32m----> 2\u001b[1;33m \u001b[0mf\u001b[0m\u001b[1;33m.\u001b[0m\u001b[0mwrite\u001b[0m\u001b[1;33m(\u001b[0m\u001b[1;34m\"saghfdjhfdjfafdsdsdsfsdssf\"\u001b[0m\u001b[1;33m)\u001b[0m\u001b[1;33m\u001b[0m\u001b[1;33m\u001b[0m\u001b[0m\n\u001b[0m\u001b[0;32m      3\u001b[0m \u001b[0mprint\u001b[0m\u001b[1;33m(\u001b[0m\u001b[1;34m\"this is my code\"\u001b[0m\u001b[1;33m)\u001b[0m\u001b[1;33m\u001b[0m\u001b[1;33m\u001b[0m\u001b[0m\n",
      "\u001b[1;31mUnsupportedOperation\u001b[0m: not writable"
     ]
    }
   ],
   "source": [
    "f=open(\"test.txt\",\"r\")\n",
    "f.write(\"saghfdjhfdjfafdsdsdsfsdssf\")\n",
    "print(\"this is my code\")"
   ]
  },
  {
   "cell_type": "code",
   "execution_count": 18,
   "id": "7cf82608",
   "metadata": {},
   "outputs": [
    {
     "name": "stdout",
     "output_type": "stream",
     "text": [
      "there was a mistake\n",
      "this is my code\n",
      "Try except \n"
     ]
    }
   ],
   "source": [
    "try:\n",
    "    f=open(\"test1.txt\",\"r\")\n",
    "    f.write(\"hgzfhgzhhsfhsgfhgjsfb\")\n",
    "except:\n",
    "    print(\"there was a mistake\")\n",
    "print(\"this is my code\")\n",
    "print(\"Try except \")"
   ]
  },
  {
   "cell_type": "code",
   "execution_count": 19,
   "id": "fd7f6088",
   "metadata": {},
   "outputs": [
    {
     "ename": "SyntaxError",
     "evalue": "unexpected EOF while parsing (Temp/ipykernel_8944/2675030566.py, line 3)",
     "output_type": "error",
     "traceback": [
      "\u001b[1;36m  File \u001b[1;32m\"C:\\Users\\SARDAR\\AppData\\Local\\Temp/ipykernel_8944/2675030566.py\"\u001b[1;36m, line \u001b[1;32m3\u001b[0m\n\u001b[1;33m    f.write(\"szfsdh\")\u001b[0m\n\u001b[1;37m                     ^\u001b[0m\n\u001b[1;31mSyntaxError\u001b[0m\u001b[1;31m:\u001b[0m unexpected EOF while parsing\n"
     ]
    }
   ],
   "source": [
    "try:\n",
    "    f=open(\"test.txt\",\"r\")\n",
    "    f.write(\"szfsdh\")"
   ]
  },
  {
   "cell_type": "code",
   "execution_count": 20,
   "id": "589fd704",
   "metadata": {},
   "outputs": [],
   "source": [
    "l=[4,5,6,78,9,9,0]"
   ]
  },
  {
   "cell_type": "code",
   "execution_count": 26,
   "id": "2d97fda0",
   "metadata": {},
   "outputs": [
    {
     "name": "stdout",
     "output_type": "stream",
     "text": [
      "[4, 5, 6, 78, 9, 9, 0]\n",
      "[4, 5, 6, 78, 9, 9, 0]\n",
      "[4, 5, 6, 78, 9, 9, 0]\n",
      "[4, 5, 6, 78, 9, 9, 0]\n",
      "[4, 5, 6, 78, 9, 9, 0]\n",
      "[4, 5, 6, 78, 9, 9, 0]\n",
      "[4, 5, 6, 78, 9, 9, 0]\n"
     ]
    }
   ],
   "source": [
    "try:\n",
    "    for i in range(len(l)):\n",
    "        print(l)\n",
    "   \n",
    "except:\n",
    "    print(\"this is my code\")\n",
    "    \n"
   ]
  },
  {
   "cell_type": "code",
   "execution_count": 36,
   "id": "1fdc8af8",
   "metadata": {},
   "outputs": [
    {
     "name": "stdout",
     "output_type": "stream",
     "text": [
      "4\n",
      "5\n",
      "6\n",
      "78\n",
      "9\n",
      "9\n",
      "0\n"
     ]
    },
    {
     "ename": "NameError",
     "evalue": "name 'e' is not defined",
     "output_type": "error",
     "traceback": [
      "\u001b[1;31m---------------------------------------------------------------------------\u001b[0m",
      "\u001b[1;31mIndexError\u001b[0m                                Traceback (most recent call last)",
      "\u001b[1;32m~\\AppData\\Local\\Temp/ipykernel_8944/447903352.py\u001b[0m in \u001b[0;36m<module>\u001b[1;34m\u001b[0m\n\u001b[0;32m      3\u001b[0m      \u001b[1;32mfor\u001b[0m \u001b[0mi\u001b[0m \u001b[1;32min\u001b[0m \u001b[0mrange\u001b[0m\u001b[1;33m(\u001b[0m\u001b[0mlen\u001b[0m\u001b[1;33m(\u001b[0m\u001b[0ml\u001b[0m\u001b[1;33m)\u001b[0m\u001b[1;33m+\u001b[0m\u001b[1;36m1\u001b[0m\u001b[1;33m)\u001b[0m\u001b[1;33m:\u001b[0m\u001b[1;33m\u001b[0m\u001b[1;33m\u001b[0m\u001b[0m\n\u001b[1;32m----> 4\u001b[1;33m              \u001b[0mprint\u001b[0m\u001b[1;33m(\u001b[0m\u001b[0ml\u001b[0m\u001b[1;33m[\u001b[0m\u001b[0mi\u001b[0m\u001b[1;33m]\u001b[0m\u001b[1;33m)\u001b[0m\u001b[1;33m\u001b[0m\u001b[1;33m\u001b[0m\u001b[0m\n\u001b[0m\u001b[0;32m      5\u001b[0m \u001b[1;32mexcept\u001b[0m\u001b[1;33m:\u001b[0m\u001b[1;33m\u001b[0m\u001b[1;33m\u001b[0m\u001b[0m\n",
      "\u001b[1;31mIndexError\u001b[0m: list index out of range",
      "\nDuring handling of the above exception, another exception occurred:\n",
      "\u001b[1;31mNameError\u001b[0m                                 Traceback (most recent call last)",
      "\u001b[1;32m~\\AppData\\Local\\Temp/ipykernel_8944/447903352.py\u001b[0m in \u001b[0;36m<module>\u001b[1;34m\u001b[0m\n\u001b[0;32m      4\u001b[0m              \u001b[0mprint\u001b[0m\u001b[1;33m(\u001b[0m\u001b[0ml\u001b[0m\u001b[1;33m[\u001b[0m\u001b[0mi\u001b[0m\u001b[1;33m]\u001b[0m\u001b[1;33m)\u001b[0m\u001b[1;33m\u001b[0m\u001b[1;33m\u001b[0m\u001b[0m\n\u001b[0;32m      5\u001b[0m \u001b[1;32mexcept\u001b[0m\u001b[1;33m:\u001b[0m\u001b[1;33m\u001b[0m\u001b[1;33m\u001b[0m\u001b[0m\n\u001b[1;32m----> 6\u001b[1;33m     \u001b[0mprint\u001b[0m\u001b[1;33m(\u001b[0m\u001b[0me\u001b[0m\u001b[1;33m)\u001b[0m\u001b[1;33m\u001b[0m\u001b[1;33m\u001b[0m\u001b[0m\n\u001b[0m\u001b[0;32m      7\u001b[0m \u001b[1;33m\u001b[0m\u001b[0m\n\u001b[0;32m      8\u001b[0m \u001b[1;33m\u001b[0m\u001b[0m\n",
      "\u001b[1;31mNameError\u001b[0m: name 'e' is not defined"
     ]
    }
   ],
   "source": [
    "l=[4,5,6,78,9,9,0]\n",
    "try:\n",
    "     for i in range(len(l)+1):\n",
    "             print(l[i])\n",
    "except:\n",
    "    print(e)\n",
    "   \n",
    "               \n",
    "       "
   ]
  },
  {
   "cell_type": "code",
   "execution_count": 31,
   "id": "b5bfc0ae",
   "metadata": {},
   "outputs": [
    {
     "name": "stdout",
     "output_type": "stream",
     "text": [
      "4\n",
      "5\n",
      "6\n",
      "78\n",
      "9\n",
      "9\n",
      "0\n"
     ]
    },
    {
     "ename": "IndexError",
     "evalue": "list index out of range",
     "output_type": "error",
     "traceback": [
      "\u001b[1;31m---------------------------------------------------------------------------\u001b[0m",
      "\u001b[1;31mIndexError\u001b[0m                                Traceback (most recent call last)",
      "\u001b[1;32m~\\AppData\\Local\\Temp/ipykernel_8944/3421845642.py\u001b[0m in \u001b[0;36m<module>\u001b[1;34m\u001b[0m\n\u001b[0;32m      1\u001b[0m \u001b[0ml\u001b[0m\u001b[1;33m=\u001b[0m\u001b[1;33m[\u001b[0m\u001b[1;36m4\u001b[0m\u001b[1;33m,\u001b[0m\u001b[1;36m5\u001b[0m\u001b[1;33m,\u001b[0m\u001b[1;36m6\u001b[0m\u001b[1;33m,\u001b[0m\u001b[1;36m78\u001b[0m\u001b[1;33m,\u001b[0m\u001b[1;36m9\u001b[0m\u001b[1;33m,\u001b[0m\u001b[1;36m9\u001b[0m\u001b[1;33m,\u001b[0m\u001b[1;36m0\u001b[0m\u001b[1;33m]\u001b[0m\u001b[1;33m\u001b[0m\u001b[1;33m\u001b[0m\u001b[0m\n\u001b[0;32m      2\u001b[0m \u001b[1;32mfor\u001b[0m \u001b[0mi\u001b[0m \u001b[1;32min\u001b[0m \u001b[0mrange\u001b[0m\u001b[1;33m(\u001b[0m\u001b[0mlen\u001b[0m\u001b[1;33m(\u001b[0m\u001b[0ml\u001b[0m\u001b[1;33m)\u001b[0m\u001b[1;33m+\u001b[0m\u001b[1;36m1\u001b[0m\u001b[1;33m)\u001b[0m\u001b[1;33m:\u001b[0m\u001b[1;33m\u001b[0m\u001b[1;33m\u001b[0m\u001b[0m\n\u001b[1;32m----> 3\u001b[1;33m     \u001b[0mprint\u001b[0m\u001b[1;33m(\u001b[0m\u001b[0ml\u001b[0m\u001b[1;33m[\u001b[0m\u001b[0mi\u001b[0m\u001b[1;33m]\u001b[0m\u001b[1;33m)\u001b[0m\u001b[1;33m\u001b[0m\u001b[1;33m\u001b[0m\u001b[0m\n\u001b[0m",
      "\u001b[1;31mIndexError\u001b[0m: list index out of range"
     ]
    }
   ],
   "source": [
    "l=[4,5,6,78,9,9,0]\n",
    "for i in range(len(l)+1):\n",
    "    print(l[i])"
   ]
  },
  {
   "cell_type": "code",
   "execution_count": 37,
   "id": "65a7d726",
   "metadata": {},
   "outputs": [
    {
     "name": "stdout",
     "output_type": "stream",
     "text": [
      "4\n",
      "5\n",
      "6\n",
      "78\n",
      "9\n",
      "9\n",
      "0\n",
      "list index out of range\n"
     ]
    }
   ],
   "source": [
    "l=[4,5,6,78,9,9,0]\n",
    "try:\n",
    "    for i in range(len(l)+1):\n",
    "        print(l[i])\n",
    "except Exception as e:\n",
    "    print(e)"
   ]
  },
  {
   "cell_type": "code",
   "execution_count": 2,
   "id": "ad185206",
   "metadata": {},
   "outputs": [
    {
     "name": "stdout",
     "output_type": "stream",
     "text": [
      "6283\n",
      "32732\n",
      "jgdaydfaf\n"
     ]
    }
   ],
   "source": [
    "try:\n",
    "    a=int(input())\n",
    "    b=int(input())\n",
    "except Exception as e:\n",
    "    print(e)\n",
    "print('jgdaydfaf')"
   ]
  },
  {
   "cell_type": "code",
   "execution_count": 7,
   "id": "f9b34536",
   "metadata": {},
   "outputs": [
    {
     "name": "stdout",
     "output_type": "stream",
     "text": [
      "this is my handler\n",
      "1\n",
      "2\n",
      "34\n",
      "5\n",
      "67\n",
      "9\n"
     ]
    }
   ],
   "source": [
    "try:\n",
    "    f=open(\"test1.txt\",\"r\")\n",
    "    f.write(\"this is my code for exception handling\")\n",
    "    print(\"this is my code\")\n",
    "except:\n",
    "    print(\"this is my handler\")\n",
    "try:\n",
    "    l=[1,2,34,5,67,9]\n",
    "    for i in l:\n",
    "        print(i)\n",
    "except:\n",
    "    print(\"this is my handler for for loop\")"
   ]
  },
  {
   "cell_type": "code",
   "execution_count": 10,
   "id": "ba33deed",
   "metadata": {},
   "outputs": [
    {
     "name": "stdout",
     "output_type": "stream",
     "text": [
      "fsdsfsdsfsdsfsd\n",
      "invalid literal for int() with base 10: 'fsdsfsdsfsdsfsd'\n"
     ]
    }
   ],
   "source": [
    "try:\n",
    "    d={\"key1\":\"sardar\",\"key2\":[1,2,34,5],\"key3\":(12,34,45,6)}\n",
    "    d[\"key4\"]=int(input())\n",
    "except Exception as e:\n",
    "    print(e)"
   ]
  },
  {
   "cell_type": "code",
   "execution_count": 13,
   "id": "043c3cac",
   "metadata": {},
   "outputs": [],
   "source": [
    "#Exception is super class "
   ]
  },
  {
   "cell_type": "code",
   "execution_count": 14,
   "id": "6decf7ae",
   "metadata": {
    "scrolled": true
   },
   "outputs": [
    {
     "name": "stdout",
     "output_type": "stream",
     "text": [
      "hd\n"
     ]
    },
    {
     "ename": "ValueError",
     "evalue": "invalid literal for int() with base 10: 'hd'",
     "output_type": "error",
     "traceback": [
      "\u001b[1;31m---------------------------------------------------------------------------\u001b[0m",
      "\u001b[1;31mValueError\u001b[0m                                Traceback (most recent call last)",
      "\u001b[1;32m~\\AppData\\Local\\Temp/ipykernel_3252/1480937231.py\u001b[0m in \u001b[0;36m<module>\u001b[1;34m\u001b[0m\n\u001b[0;32m      1\u001b[0m \u001b[0md\u001b[0m\u001b[1;33m=\u001b[0m\u001b[1;33m{\u001b[0m\u001b[1;34m\"key1\"\u001b[0m\u001b[1;33m:\u001b[0m\u001b[1;34m\"sardar\"\u001b[0m\u001b[1;33m,\u001b[0m\u001b[1;34m\"key2\"\u001b[0m\u001b[1;33m:\u001b[0m\u001b[1;33m[\u001b[0m\u001b[1;36m12\u001b[0m\u001b[1;33m,\u001b[0m\u001b[1;36m23\u001b[0m\u001b[1;33m,\u001b[0m\u001b[1;36m4\u001b[0m\u001b[1;33m,\u001b[0m\u001b[1;36m4\u001b[0m\u001b[1;33m,\u001b[0m\u001b[1;36m4\u001b[0m\u001b[1;33m]\u001b[0m\u001b[1;33m,\u001b[0m\u001b[1;34m\"key3\"\u001b[0m\u001b[1;33m:\u001b[0m\u001b[1;33m(\u001b[0m\u001b[1;36m1\u001b[0m\u001b[1;33m,\u001b[0m\u001b[1;36m2\u001b[0m\u001b[1;33m,\u001b[0m\u001b[1;36m344\u001b[0m\u001b[1;33m,\u001b[0m\u001b[1;36m5\u001b[0m\u001b[1;33m,\u001b[0m\u001b[1;36m5\u001b[0m\u001b[1;33m)\u001b[0m\u001b[1;33m}\u001b[0m\u001b[1;33m\u001b[0m\u001b[1;33m\u001b[0m\u001b[0m\n\u001b[1;32m----> 2\u001b[1;33m \u001b[0md\u001b[0m\u001b[1;33m[\u001b[0m\u001b[1;34m\"key4\"\u001b[0m\u001b[1;33m]\u001b[0m\u001b[1;33m=\u001b[0m\u001b[0mint\u001b[0m\u001b[1;33m(\u001b[0m\u001b[0minput\u001b[0m\u001b[1;33m(\u001b[0m\u001b[1;33m)\u001b[0m\u001b[1;33m)\u001b[0m\u001b[1;33m\u001b[0m\u001b[1;33m\u001b[0m\u001b[0m\n\u001b[0m",
      "\u001b[1;31mValueError\u001b[0m: invalid literal for int() with base 10: 'hd'"
     ]
    }
   ],
   "source": [
    "d={\"key1\":\"sardar\",\"key2\":[12,23,4,4,4],\"key3\":(1,2,344,5,5)}\n",
    "d[\"key4\"]=int(input())"
   ]
  },
  {
   "cell_type": "code",
   "execution_count": 23,
   "id": "aa9be33b",
   "metadata": {},
   "outputs": [
    {
     "name": "stdout",
     "output_type": "stream",
     "text": [
      "362436\n"
     ]
    },
    {
     "ename": "FileNotFoundError",
     "evalue": "[Errno 2] No such file or directory: 'test2'",
     "output_type": "error",
     "traceback": [
      "\u001b[1;31m---------------------------------------------------------------------------\u001b[0m",
      "\u001b[1;31mFileNotFoundError\u001b[0m                         Traceback (most recent call last)",
      "\u001b[1;32m~\\AppData\\Local\\Temp/ipykernel_3252/1529079269.py\u001b[0m in \u001b[0;36m<module>\u001b[1;34m\u001b[0m\n\u001b[0;32m      2\u001b[0m     \u001b[0md\u001b[0m\u001b[1;33m=\u001b[0m\u001b[1;33m{\u001b[0m\u001b[1;34m\"key1\"\u001b[0m\u001b[1;33m:\u001b[0m\u001b[1;34m\"sardar\"\u001b[0m\u001b[1;33m,\u001b[0m\u001b[1;34m\"key2\"\u001b[0m\u001b[1;33m:\u001b[0m\u001b[1;33m[\u001b[0m\u001b[1;36m12\u001b[0m\u001b[1;33m,\u001b[0m\u001b[1;36m23\u001b[0m\u001b[1;33m,\u001b[0m\u001b[1;36m4\u001b[0m\u001b[1;33m,\u001b[0m\u001b[1;36m4\u001b[0m\u001b[1;33m,\u001b[0m\u001b[1;36m4\u001b[0m\u001b[1;33m]\u001b[0m\u001b[1;33m,\u001b[0m\u001b[1;34m\"key3\"\u001b[0m\u001b[1;33m:\u001b[0m\u001b[1;33m(\u001b[0m\u001b[1;36m1\u001b[0m\u001b[1;33m,\u001b[0m\u001b[1;36m2\u001b[0m\u001b[1;33m,\u001b[0m\u001b[1;36m344\u001b[0m\u001b[1;33m,\u001b[0m\u001b[1;36m5\u001b[0m\u001b[1;33m,\u001b[0m\u001b[1;36m5\u001b[0m\u001b[1;33m)\u001b[0m\u001b[1;33m}\u001b[0m\u001b[1;33m\u001b[0m\u001b[1;33m\u001b[0m\u001b[0m\n\u001b[0;32m      3\u001b[0m     \u001b[0md\u001b[0m\u001b[1;33m[\u001b[0m\u001b[1;34m\"key4\"\u001b[0m\u001b[1;33m]\u001b[0m\u001b[1;33m=\u001b[0m\u001b[0mint\u001b[0m\u001b[1;33m(\u001b[0m\u001b[0minput\u001b[0m\u001b[1;33m(\u001b[0m\u001b[1;33m)\u001b[0m\u001b[1;33m)\u001b[0m\u001b[1;33m\u001b[0m\u001b[1;33m\u001b[0m\u001b[0m\n\u001b[1;32m----> 4\u001b[1;33m     \u001b[0mf\u001b[0m\u001b[1;33m=\u001b[0m\u001b[0mopen\u001b[0m\u001b[1;33m(\u001b[0m\u001b[1;34m\"test2\"\u001b[0m\u001b[1;33m,\u001b[0m\u001b[1;34m\"r\"\u001b[0m\u001b[1;33m)\u001b[0m\u001b[1;33m\u001b[0m\u001b[1;33m\u001b[0m\u001b[0m\n\u001b[0m\u001b[0;32m      5\u001b[0m \u001b[1;32mexcept\u001b[0m \u001b[0mValueError\u001b[0m \u001b[1;32mas\u001b[0m \u001b[0me\u001b[0m\u001b[1;33m:\u001b[0m\u001b[1;33m\u001b[0m\u001b[1;33m\u001b[0m\u001b[0m\n\u001b[0;32m      6\u001b[0m     \u001b[0mprint\u001b[0m\u001b[1;33m(\u001b[0m\u001b[0me\u001b[0m\u001b[1;33m)\u001b[0m\u001b[1;33m\u001b[0m\u001b[1;33m\u001b[0m\u001b[0m\n",
      "\u001b[1;31mFileNotFoundError\u001b[0m: [Errno 2] No such file or directory: 'test2'"
     ]
    }
   ],
   "source": [
    "try:\n",
    "    d={\"key1\":\"sardar\",\"key2\":[12,23,4,4,4],\"key3\":(1,2,344,5,5)}\n",
    "    d[\"key4\"]=int(input())\n",
    "    f=open(\"test2\",\"r\")\n",
    "except ValueError as e:\n",
    "    print(e)"
   ]
  },
  {
   "cell_type": "code",
   "execution_count": 20,
   "id": "98561c4c",
   "metadata": {},
   "outputs": [
    {
     "name": "stdout",
     "output_type": "stream",
     "text": [
      "453543\n",
      "[Errno 2] No such file or directory: 'test2'\n"
     ]
    }
   ],
   "source": [
    "try:\n",
    "    d={\"key1\":\"sardar\",\"key2\":[12,23,4,4,4],\"key3\":(1,2,344,5,5)}\n",
    "    d[\"key4\"]=int(input())\n",
    "    f=open(\"test2\",\"r\")\n",
    "except Exception as e:\n",
    "    print(e)"
   ]
  },
  {
   "cell_type": "code",
   "execution_count": 24,
   "id": "a5b4bfc3",
   "metadata": {},
   "outputs": [
    {
     "name": "stdout",
     "output_type": "stream",
     "text": [
      "62434\n",
      "[Errno 2] No such file or directory: 'test2'\n"
     ]
    }
   ],
   "source": [
    "try:\n",
    "    d={\"key1\":\"sardar\",\"key2\":[12,23,4,4,4],\"key3\":(1,2,344,5,5)}\n",
    "    d[\"key4\"]=int(input())\n",
    "    f=open(\"test2\",\"r\")\n",
    "except ValueError as e:\n",
    "    print(e)\n",
    "except FileNotFoundError as sar:\n",
    "    print(sar)"
   ]
  },
  {
   "cell_type": "code",
   "execution_count": 26,
   "id": "755d2edd",
   "metadata": {},
   "outputs": [
    {
     "name": "stdout",
     "output_type": "stream",
     "text": [
      "ddsdfsd\n",
      "this is my exception class invalid literal for int() with base 10: 'ddsdfsd'\n"
     ]
    }
   ],
   "source": [
    "try:\n",
    "    d={\"key1\":\"sardar\",\"key2\":[12,23,4,4,4],\"key3\":(1,2,344,5,5)}\n",
    "    d[\"key4\"]=int(input())\n",
    "    f=open(\"test2\",\"r\")\n",
    "except Exception as ee:\n",
    "    print(\"this is my exception class\",ee)\n",
    "except ValueError as e:\n",
    "    print(e)\n",
    "except FileNotFoundError as sar:\n",
    "    print(sar)"
   ]
  },
  {
   "cell_type": "code",
   "execution_count": 31,
   "id": "b1221779",
   "metadata": {},
   "outputs": [
    {
     "name": "stdout",
     "output_type": "stream",
     "text": [
      "gddsf\n",
      "invalid literal for int() with base 10: 'gddsf'\n"
     ]
    }
   ],
   "source": [
    "try:\n",
    "    d={\"key1\":\"sardar\",\"key2\":[12,23,4,4,4],\"key3\":(1,2,344,5,5)}\n",
    "    d[\"key4\"]=int(input())\n",
    "    f=open(\"test2\",\"r\")\n",
    "except ValueError as e:\n",
    "    print(e)\n",
    "except FileNotFoundError as sar:\n",
    "    print(sar)\n",
    "except Exception as ee:\n",
    "    print(\"this is my exception class\",ee)"
   ]
  },
  {
   "cell_type": "markdown",
   "id": "51e717ca",
   "metadata": {},
   "source": [
    "# Try Except ,Else and Finnally:"
   ]
  },
  {
   "cell_type": "code",
   "execution_count": 32,
   "id": "83797167",
   "metadata": {},
   "outputs": [
    {
     "name": "stdout",
     "output_type": "stream",
     "text": [
      "this will execute once my try block will be excutedd sy=ucessuly\n"
     ]
    }
   ],
   "source": [
    "try:\n",
    "    f=open(\"test1.txt\",\"w\")\n",
    "    f.write(\"this is my code in try block\")\n",
    "except Exception as e:\n",
    "    print(\"this will handle an error\")\n",
    "else:\n",
    "    print(\"this will execute once my try block will be excutedd sy=ucessuly\")\n",
    "    f.close()"
   ]
  },
  {
   "cell_type": "code",
   "execution_count": 34,
   "id": "cff7f09c",
   "metadata": {},
   "outputs": [
    {
     "name": "stdout",
     "output_type": "stream",
     "text": [
      "this will handle an error [Errno 2] No such file or directory: 'test5.txt'\n"
     ]
    }
   ],
   "source": [
    "try:\n",
    "    f=open(\"test5.txt\",\"r\")\n",
    "    f.write(\"this is my code in try block\")\n",
    "except Exception as e:\n",
    "    print(\"this will handle an error\",e)\n",
    "else:\n",
    "    print(\"this will execute once my try block will be excutedd succcessfully\")\n",
    "    f.close()"
   ]
  },
  {
   "cell_type": "code",
   "execution_count": 38,
   "id": "68f0c9f9",
   "metadata": {},
   "outputs": [
    {
     "name": "stdout",
     "output_type": "stream",
     "text": [
      "fdgsfdgsfgfsgdfsg [Errno 2] No such file or directory: 'test3'\n",
      "this will execute for sure\n"
     ]
    }
   ],
   "source": [
    "try:\n",
    "    f=open(\"test3\",\"r\")\n",
    "except Exception as e:\n",
    "    print(\"fdgsfdgsfgfsgdfsg\",e)\n",
    "else:\n",
    "    print(\"do this on execution of try blocK\")\n",
    "finally:\n",
    "    print(\"this will execute for sure\")"
   ]
  },
  {
   "cell_type": "code",
   "execution_count": 40,
   "id": "ec7edfea",
   "metadata": {},
   "outputs": [
    {
     "name": "stdout",
     "output_type": "stream",
     "text": [
      "do this on execution of try blocK\n",
      "this will execute for sure\n"
     ]
    }
   ],
   "source": [
    "try:\n",
    "    f=open(\"test3.txt\",\"w\")\n",
    "except Exception as e:\n",
    "    print(\"fdgsfdgsfgfsgdfsg\",e)\n",
    "else:\n",
    "    print(\"do this on execution of try blocK\")\n",
    "finally:\n",
    "    print(\"this will execute for sure\")"
   ]
  },
  {
   "cell_type": "code",
   "execution_count": 41,
   "id": "31b0a4a2",
   "metadata": {},
   "outputs": [
    {
     "name": "stdout",
     "output_type": "stream",
     "text": [
      "do this on execution of try blocK\n",
      "this will execute for sure\n",
      "handle this [Errno 2] No such file or directory: 'test3'\n",
      "this will always execute if there is ecxceptionnor not\n"
     ]
    }
   ],
   "source": [
    "try:\n",
    "    f=open(\"test3.txt\",\"w\")\n",
    "except Exception as e:\n",
    "    print(\"fdgsfdgsfgfsgdfsg\",e)\n",
    "else:\n",
    "    print(\"do this on execution of try blocK\")\n",
    "finally:\n",
    "    print(\"this will execute for sure\")\n",
    "    try:\n",
    "        f=open(\"test3\",\"r\")\n",
    "    except Exception as ee:\n",
    "        print(\"handle this\",ee)\n",
    "    finally:\n",
    "        print(\"this will always execute if there is ecxceptionnor not\")"
   ]
  },
  {
   "cell_type": "code",
   "execution_count": 50,
   "id": "4e73255b",
   "metadata": {},
   "outputs": [],
   "source": [
    "def askint():\n",
    "    try:\n",
    "        a=int(input())\n",
    "        return a\n",
    "    except Exception as e:\n",
    "        print(\"this is my input error\",e)"
   ]
  },
  {
   "cell_type": "code",
   "execution_count": 51,
   "id": "4c0c6c7b",
   "metadata": {},
   "outputs": [
    {
     "name": "stdout",
     "output_type": "stream",
     "text": [
      "376943\n"
     ]
    },
    {
     "data": {
      "text/plain": [
       "376943"
      ]
     },
     "execution_count": 51,
     "metadata": {},
     "output_type": "execute_result"
    }
   ],
   "source": [
    "askint()"
   ]
  },
  {
   "cell_type": "code",
   "execution_count": 52,
   "id": "ec18a599",
   "metadata": {},
   "outputs": [
    {
     "name": "stdout",
     "output_type": "stream",
     "text": [
      "dfysfdysfdy\n",
      "this is my input error invalid literal for int() with base 10: 'dfysfdysfdy'\n"
     ]
    }
   ],
   "source": [
    "askint()"
   ]
  },
  {
   "cell_type": "code",
   "execution_count": 59,
   "id": "9a326d4e",
   "metadata": {},
   "outputs": [],
   "source": [
    "def askint():\n",
    "    try:\n",
    "        a=int(input())\n",
    "        for i in a:\n",
    "            if type(i)==int:\n",
    "                print(\"It is an interger value\")\n",
    "            else:\n",
    "                print(\"please enter integer  value\")\n",
    "    except Exception as e:\n",
    "        print(\"this will handle my code\")\n",
    "    finally:\n",
    "        askint()"
   ]
  },
  {
   "cell_type": "code",
   "execution_count": null,
   "id": "c7853842",
   "metadata": {},
   "outputs": [
    {
     "name": "stdout",
     "output_type": "stream",
     "text": [
      "ggdg\n",
      "this will handle my code\n",
      "hdjgug\n",
      "this will handle my code\n",
      "kdsjgd\n",
      "this will handle my code\n",
      "djsgdsg\n",
      "this will handle my code\n"
     ]
    }
   ],
   "source": [
    "askint()"
   ]
  },
  {
   "cell_type": "code",
   "execution_count": 2,
   "id": "f2715f2a",
   "metadata": {},
   "outputs": [],
   "source": [
    "def askint():\n",
    "    try:\n",
    "        a=int(input())\n",
    "        for i in a:\n",
    "            if type(i)==int:\n",
    "                print(\"It is an interger value\")\n",
    "            else:\n",
    "                print(\"please enter integer  value\")\n",
    "    except Exception as e:\n",
    "        print(\"this will handle my code\")\n",
    "    else:\n",
    "        print(\"sydfYFDy\")"
   ]
  },
  {
   "cell_type": "code",
   "execution_count": 4,
   "id": "ee3843a5",
   "metadata": {},
   "outputs": [
    {
     "name": "stdout",
     "output_type": "stream",
     "text": [
      "35246\n",
      "this will handle my code\n"
     ]
    }
   ],
   "source": [
    "askint()"
   ]
  },
  {
   "cell_type": "code",
   "execution_count": 23,
   "id": "000cfdb7",
   "metadata": {},
   "outputs": [],
   "source": [
    "def askint():\n",
    "    while True:\n",
    "        try:\n",
    "            a=int(input())\n",
    "            if type(a)==int:\n",
    "                break\n",
    "            \n",
    "        except ValueError as e:\n",
    "            print(\"Plese enter integer value\",e)\n",
    "            continue"
   ]
  },
  {
   "cell_type": "code",
   "execution_count": null,
   "id": "99f1e86c",
   "metadata": {},
   "outputs": [
    {
     "name": "stdout",
     "output_type": "stream",
     "text": [
      "gdysfdy\n",
      "Plese enter integer value invalid literal for int() with base 10: 'gdysfdy'\n",
      "hdksds\n",
      "Plese enter integer value invalid literal for int() with base 10: 'hdksds'\n",
      "ds\n",
      "Plese enter integer value invalid literal for int() with base 10: 'ds'\n",
      "d\n",
      "Plese enter integer value invalid literal for int() with base 10: 'd'\n",
      "sds\n",
      "Plese enter integer value invalid literal for int() with base 10: 'sds'\n"
     ]
    }
   ],
   "source": [
    "askint()"
   ]
  },
  {
   "cell_type": "code",
   "execution_count": 18,
   "id": "3ae237f7",
   "metadata": {},
   "outputs": [],
   "source": [
    "def askint():\n",
    "    flag=True\n",
    "    while flag:\n",
    "        try:\n",
    "            a=int(input())\n",
    "            if type(a)==int:\n",
    "                return \"it is an integer cvalue\"\n",
    "                flag=False\n",
    "        except Exception as e:\n",
    "            print(\"please enter integer value \",e)\n",
    "                \n",
    "            "
   ]
  },
  {
   "cell_type": "code",
   "execution_count": 20,
   "id": "218dbaef",
   "metadata": {},
   "outputs": [
    {
     "name": "stdout",
     "output_type": "stream",
     "text": [
      "fdhDFhf\n",
      "please enter integer value  invalid literal for int() with base 10: 'fdhDFhf'\n",
      "dssdf\n",
      "please enter integer value  invalid literal for int() with base 10: 'dssdf'\n",
      "sf\n",
      "please enter integer value  invalid literal for int() with base 10: 'sf'\n",
      "sfsfs\n",
      "please enter integer value  invalid literal for int() with base 10: 'sfsfs'\n",
      "f\n",
      "please enter integer value  invalid literal for int() with base 10: 'f'\n",
      "f\n",
      "f\n",
      "please enter integer value  invalid literal for int() with base 10: 'f'\n",
      "please enter integer value  invalid literal for int() with base 10: 'f'\n",
      "f\n",
      "please enter integer value  invalid literal for int() with base 10: 'f'\n",
      "sf\n",
      "please enter integer value  invalid literal for int() with base 10: 'sf'\n",
      "2323\n"
     ]
    },
    {
     "data": {
      "text/plain": [
       "'it is an integer cvalue'"
      ]
     },
     "execution_count": 20,
     "metadata": {},
     "output_type": "execute_result"
    }
   ],
   "source": [
    "askint()"
   ]
  },
  {
   "cell_type": "code",
   "execution_count": 21,
   "id": "a7c04402",
   "metadata": {},
   "outputs": [],
   "source": [
    "def askint1():\n",
    "    while True:\n",
    "        try:\n",
    "            a=int(input())\n",
    "            break\n",
    "        except ValueError as e:\n",
    "            print(\"enter the integer value\",e)"
   ]
  },
  {
   "cell_type": "code",
   "execution_count": 22,
   "id": "5f12c8ce",
   "metadata": {},
   "outputs": [
    {
     "name": "stdout",
     "output_type": "stream",
     "text": [
      "dghfdhys\n",
      "enter the integer value invalid literal for int() with base 10: 'dghfdhys'\n",
      "dhsdjhsfd\n",
      "enter the integer value invalid literal for int() with base 10: 'dhsdjhsfd'\n",
      "dsdfsfds\n",
      "enter the integer value invalid literal for int() with base 10: 'dsdfsfds'\n",
      "fss\n",
      "enter the integer value invalid literal for int() with base 10: 'fss'\n",
      "f\n",
      "enter the integer value invalid literal for int() with base 10: 'f'\n",
      "fsfsfs\n",
      "enter the integer value invalid literal for int() with base 10: 'fsfsfs'\n",
      "f\n",
      "enter the integer value invalid literal for int() with base 10: 'f'\n",
      "sf\n",
      "enter the integer value invalid literal for int() with base 10: 'sf'\n",
      "sf\n",
      "enter the integer value invalid literal for int() with base 10: 'sf'\n",
      "s\n",
      "enter the integer value invalid literal for int() with base 10: 's'\n",
      "224244\n"
     ]
    }
   ],
   "source": [
    "askint1()"
   ]
  },
  {
   "cell_type": "code",
   "execution_count": 1,
   "id": "7760d5ca",
   "metadata": {},
   "outputs": [],
   "source": [
    "a=6/10"
   ]
  },
  {
   "cell_type": "code",
   "execution_count": 2,
   "id": "56f48ad6",
   "metadata": {},
   "outputs": [
    {
     "ename": "ZeroDivisionError",
     "evalue": "division by zero",
     "output_type": "error",
     "traceback": [
      "\u001b[1;31m---------------------------------------------------------------------------\u001b[0m",
      "\u001b[1;31mZeroDivisionError\u001b[0m                         Traceback (most recent call last)",
      "\u001b[1;32m~\\AppData\\Local\\Temp/ipykernel_8376/2874912419.py\u001b[0m in \u001b[0;36m<module>\u001b[1;34m\u001b[0m\n\u001b[1;32m----> 1\u001b[1;33m \u001b[1;36m5\u001b[0m\u001b[1;33m/\u001b[0m\u001b[1;36m0\u001b[0m\u001b[1;33m\u001b[0m\u001b[1;33m\u001b[0m\u001b[0m\n\u001b[0m",
      "\u001b[1;31mZeroDivisionError\u001b[0m: division by zero"
     ]
    }
   ],
   "source": [
    "5/0"
   ]
  },
  {
   "cell_type": "code",
   "execution_count": 3,
   "id": "b41db0fe",
   "metadata": {},
   "outputs": [],
   "source": [
    "def test(a):\n",
    "    if a<0:\n",
    "        raise Exception(a)\n",
    "    return a"
   ]
  },
  {
   "cell_type": "code",
   "execution_count": 4,
   "id": "3b8a0018",
   "metadata": {},
   "outputs": [
    {
     "ename": "Exception",
     "evalue": "-4",
     "output_type": "error",
     "traceback": [
      "\u001b[1;31m---------------------------------------------------------------------------\u001b[0m",
      "\u001b[1;31mException\u001b[0m                                 Traceback (most recent call last)",
      "\u001b[1;32m~\\AppData\\Local\\Temp/ipykernel_8376/2430745927.py\u001b[0m in \u001b[0;36m<module>\u001b[1;34m\u001b[0m\n\u001b[1;32m----> 1\u001b[1;33m \u001b[0mtest\u001b[0m\u001b[1;33m(\u001b[0m\u001b[1;33m-\u001b[0m\u001b[1;36m4\u001b[0m\u001b[1;33m)\u001b[0m\u001b[1;33m\u001b[0m\u001b[1;33m\u001b[0m\u001b[0m\n\u001b[0m",
      "\u001b[1;32m~\\AppData\\Local\\Temp/ipykernel_8376/4033397188.py\u001b[0m in \u001b[0;36mtest\u001b[1;34m(a)\u001b[0m\n\u001b[0;32m      1\u001b[0m \u001b[1;32mdef\u001b[0m \u001b[0mtest\u001b[0m\u001b[1;33m(\u001b[0m\u001b[0ma\u001b[0m\u001b[1;33m)\u001b[0m\u001b[1;33m:\u001b[0m\u001b[1;33m\u001b[0m\u001b[1;33m\u001b[0m\u001b[0m\n\u001b[0;32m      2\u001b[0m     \u001b[1;32mif\u001b[0m \u001b[0ma\u001b[0m\u001b[1;33m<\u001b[0m\u001b[1;36m0\u001b[0m\u001b[1;33m:\u001b[0m\u001b[1;33m\u001b[0m\u001b[1;33m\u001b[0m\u001b[0m\n\u001b[1;32m----> 3\u001b[1;33m         \u001b[1;32mraise\u001b[0m \u001b[0mException\u001b[0m\u001b[1;33m(\u001b[0m\u001b[0ma\u001b[0m\u001b[1;33m)\u001b[0m\u001b[1;33m\u001b[0m\u001b[1;33m\u001b[0m\u001b[0m\n\u001b[0m\u001b[0;32m      4\u001b[0m     \u001b[1;32mreturn\u001b[0m \u001b[0ma\u001b[0m\u001b[1;33m\u001b[0m\u001b[1;33m\u001b[0m\u001b[0m\n",
      "\u001b[1;31mException\u001b[0m: -4"
     ]
    }
   ],
   "source": [
    "test(-4)"
   ]
  },
  {
   "cell_type": "code",
   "execution_count": 5,
   "id": "aa328fe1",
   "metadata": {},
   "outputs": [
    {
     "data": {
      "text/plain": [
       "4"
      ]
     },
     "execution_count": 5,
     "metadata": {},
     "output_type": "execute_result"
    }
   ],
   "source": [
    "test(4)"
   ]
  },
  {
   "cell_type": "code",
   "execution_count": 34,
   "id": "a08db4e7",
   "metadata": {},
   "outputs": [],
   "source": [
    "def askint():\n",
    "    while True:\n",
    "        try:\n",
    "            a=int(input())\n",
    "            if type(a)==int:\n",
    "                break\n",
    "            \n",
    "        except ValueError as e:\n",
    "            print(\"Plese enter integer value\",e)\n",
    "            continue"
   ]
  },
  {
   "cell_type": "code",
   "execution_count": 43,
   "id": "68c29940",
   "metadata": {},
   "outputs": [],
   "source": [
    "def test(a):\n",
    "    if a==\"sardar\":\n",
    "        raise ZeroDivisionError(\"you have entered a -ve value abdhfdgfcdggdvDBj\",a)\n",
    "    return a"
   ]
  },
  {
   "cell_type": "code",
   "execution_count": 44,
   "id": "eda4a109",
   "metadata": {},
   "outputs": [
    {
     "ename": "ZeroDivisionError",
     "evalue": "('you have entered a -ve value abdhfdgfcdggdvDBj', 'sardar')",
     "output_type": "error",
     "traceback": [
      "\u001b[1;31m---------------------------------------------------------------------------\u001b[0m",
      "\u001b[1;31mZeroDivisionError\u001b[0m                         Traceback (most recent call last)",
      "\u001b[1;32m~\\AppData\\Local\\Temp/ipykernel_8376/441650821.py\u001b[0m in \u001b[0;36m<module>\u001b[1;34m\u001b[0m\n\u001b[1;32m----> 1\u001b[1;33m \u001b[0mtest\u001b[0m\u001b[1;33m(\u001b[0m\u001b[1;34m\"sardar\"\u001b[0m\u001b[1;33m)\u001b[0m\u001b[1;33m\u001b[0m\u001b[1;33m\u001b[0m\u001b[0m\n\u001b[0m",
      "\u001b[1;32m~\\AppData\\Local\\Temp/ipykernel_8376/2262970082.py\u001b[0m in \u001b[0;36mtest\u001b[1;34m(a)\u001b[0m\n\u001b[0;32m      1\u001b[0m \u001b[1;32mdef\u001b[0m \u001b[0mtest\u001b[0m\u001b[1;33m(\u001b[0m\u001b[0ma\u001b[0m\u001b[1;33m)\u001b[0m\u001b[1;33m:\u001b[0m\u001b[1;33m\u001b[0m\u001b[1;33m\u001b[0m\u001b[0m\n\u001b[0;32m      2\u001b[0m     \u001b[1;32mif\u001b[0m \u001b[0ma\u001b[0m\u001b[1;33m==\u001b[0m\u001b[1;34m\"sardar\"\u001b[0m\u001b[1;33m:\u001b[0m\u001b[1;33m\u001b[0m\u001b[1;33m\u001b[0m\u001b[0m\n\u001b[1;32m----> 3\u001b[1;33m         \u001b[1;32mraise\u001b[0m \u001b[0mZeroDivisionError\u001b[0m\u001b[1;33m(\u001b[0m\u001b[1;34m\"you have entered a -ve value abdhfdgfcdggdvDBj\"\u001b[0m\u001b[1;33m,\u001b[0m\u001b[0ma\u001b[0m\u001b[1;33m)\u001b[0m\u001b[1;33m\u001b[0m\u001b[1;33m\u001b[0m\u001b[0m\n\u001b[0m\u001b[0;32m      4\u001b[0m     \u001b[1;32mreturn\u001b[0m \u001b[0ma\u001b[0m\u001b[1;33m\u001b[0m\u001b[1;33m\u001b[0m\u001b[0m\n",
      "\u001b[1;31mZeroDivisionError\u001b[0m: ('you have entered a -ve value abdhfdgfcdggdvDBj', 'sardar')"
     ]
    }
   ],
   "source": [
    "test(\"sardar\")"
   ]
  },
  {
   "cell_type": "code",
   "execution_count": 45,
   "id": "445e6e12",
   "metadata": {},
   "outputs": [
    {
     "name": "stdout",
     "output_type": "stream",
     "text": [
      "sardar\n",
      "calling my raised  ('you have entered a -ve value abdhfdgfcdggdvDBj', 'sardar')\n"
     ]
    }
   ],
   "source": [
    "try:\n",
    "    a=input()\n",
    "    test(a)\n",
    "except Exception as e:\n",
    "    print(\"calling my raised \",e)"
   ]
  },
  {
   "cell_type": "code",
   "execution_count": 35,
   "id": "1d5f8de7",
   "metadata": {},
   "outputs": [
    {
     "name": "stdout",
     "output_type": "stream",
     "text": [
      "dgsdxg\n",
      "Plese enter integer value invalid literal for int() with base 10: 'dgsdxg'\n",
      "sd\n",
      "Plese enter integer value invalid literal for int() with base 10: 'sd'\n",
      "sdss\n",
      "Plese enter integer value invalid literal for int() with base 10: 'sdss'\n",
      "ds\n",
      "Plese enter integer value invalid literal for int() with base 10: 'ds'\n",
      "d\n",
      "Plese enter integer value invalid literal for int() with base 10: 'd'\n",
      "d434232\n",
      "Plese enter integer value invalid literal for int() with base 10: 'd434232'\n",
      "2\n"
     ]
    }
   ],
   "source": [
    "askint()"
   ]
  },
  {
   "cell_type": "markdown",
   "id": "2db541d4",
   "metadata": {},
   "source": [
    "import logging"
   ]
  },
  {
   "cell_type": "code",
   "execution_count": null,
   "id": "509f22bc",
   "metadata": {},
   "outputs": [],
   "source": [
    "import logging\n"
   ]
  }
 ],
 "metadata": {
  "kernelspec": {
   "display_name": "Python 3 (ipykernel)",
   "language": "python",
   "name": "python3"
  },
  "language_info": {
   "codemirror_mode": {
    "name": "ipython",
    "version": 3
   },
   "file_extension": ".py",
   "mimetype": "text/x-python",
   "name": "python",
   "nbconvert_exporter": "python",
   "pygments_lexer": "ipython3",
   "version": "3.9.7"
  }
 },
 "nbformat": 4,
 "nbformat_minor": 5
}
